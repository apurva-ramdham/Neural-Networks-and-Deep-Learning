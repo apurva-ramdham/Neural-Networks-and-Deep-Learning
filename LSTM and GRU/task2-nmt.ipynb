{
 "cells": [
  {
   "cell_type": "markdown",
   "metadata": {},
   "source": [
    "## Columbia University\n",
    "### ECBM E4040 Neural Networks and Deep Learning. Fall 2019."
   ]
  },
  {
   "cell_type": "markdown",
   "metadata": {},
   "source": [
    "# Task 2: Neural Machine Translation:\n",
    "\n"
   ]
  },
  {
   "cell_type": "markdown",
   "metadata": {},
   "source": [
    "The task of neural machine translation(NMT) implements multi-layer Recurrent Neural Network (RNN, LSTM, and GRU) for translating from one language to another. \n",
    "\n",
    "Here the task is to train a neural machine translation RNN in tensorflow to translate from french to english"
   ]
  },
  {
   "cell_type": "code",
   "execution_count": 1,
   "metadata": {},
   "outputs": [],
   "source": [
    "import os\n",
    "import pickle\n",
    "import copy\n",
    "import numpy as np\n",
    "import time\n",
    "import tensorflow as tf\n",
    "from utils.nmt import *\n",
    "from matplotlib import pyplot as plt\n",
    "\n",
    "# Notebook auto reloads code. (Ref: http://stackoverflow.com/questions/1907993/autoreload-of-modules-in-ipython)\n",
    "%load_ext autoreload\n",
    "%autoreload 2\n",
    "%matplotlib inline\n"
   ]
  },
  {
   "cell_type": "markdown",
   "metadata": {},
   "source": [
    "## Part 1: Setup \n",
    "\n",
    "Here will will preprocess the data necessary for the task"
   ]
  },
  {
   "cell_type": "code",
   "execution_count": 2,
   "metadata": {},
   "outputs": [],
   "source": [
    "source_path = 'nmt_data/fr.txt'\n",
    "target_path = 'nmt_data/en.txt'\n",
    "source_text = load_data(source_path)\n",
    "target_text = load_data(target_path)"
   ]
  },
  {
   "cell_type": "markdown",
   "metadata": {},
   "source": [
    "Let us have a look at some sample translation to get an inderstanding of the task."
   ]
  },
  {
   "cell_type": "code",
   "execution_count": 3,
   "metadata": {},
   "outputs": [
    {
     "name": "stdout",
     "output_type": "stream",
     "text": [
      "Sample translations: \n",
      "\n",
      "sentence number 1\n",
      "\tfr: new jersey est parfois calme pendant l' automne , et il est neigeux en avril .\n",
      "\ten: new jersey is sometimes quiet during autumn , and it is snowy in april .\n",
      "\n",
      "sentence number 2\n",
      "\tfr: les états-unis est généralement froid en juillet , et il gèle habituellement en novembre .\n",
      "\ten: the united states is usually chilly during july , and it is usually freezing in november .\n",
      "\n",
      "sentence number 3\n",
      "\tfr: california est généralement calme en mars , et il est généralement chaud en juin .\n",
      "\ten: california is usually quiet during march , and it is usually hot in june .\n",
      "\n",
      "sentence number 4\n",
      "\tfr: les états-unis est parfois légère en juin , et il fait froid en septembre .\n",
      "\ten: the united states is sometimes mild during june , and it is cold in september .\n",
      "\n",
      "sentence number 5\n",
      "\tfr: votre moins aimé fruit est le raisin , mais mon moins aimé est la pomme .\n",
      "\ten: your least liked fruit is the grape , but my least liked is the apple .\n",
      "\n"
     ]
    }
   ],
   "source": [
    "english_sentences = target_text.split('\\n')\n",
    "french_sentences = source_text.split('\\n')\n",
    "\n",
    "#Fetch the first five translations\n",
    "sents = list(zip(french_sentences,english_sentences))[0:5]\n",
    "\n",
    "side_by_side_sentences = list(zip(english_sentences, french_sentences))[0:5]\n",
    "print(\"Sample translations: \\n\")\n",
    "for index, sentence in enumerate(side_by_side_sentences):\n",
    "    en_sent,fr_sent  = sentence\n",
    "    print('sentence number {}'.format(index+1))\n",
    "    print('\\tfr: {}'.format(fr_sent))\n",
    "    print('\\ten: {}'.format(en_sent))\n",
    "    print()"
   ]
  },
  {
   "cell_type": "markdown",
   "metadata": {},
   "source": [
    "Now that we have the translation data. We will do the following preprocessing steps"
   ]
  },
  {
   "cell_type": "markdown",
   "metadata": {},
   "source": [
    "1. create lookup tables\n",
    "    - here we create a unique mapping between each distinct word and it's word id\n",
    "2. text to word ids\n",
    "    - we convert all the text sentences to word id replaced sentences"
   ]
  },
  {
   "cell_type": "code",
   "execution_count": 4,
   "metadata": {},
   "outputs": [],
   "source": [
    "#please look at utils/nmt.py for the full function\n",
    "preprocess_and_save_data(source_path, target_path, text_to_ids)"
   ]
  },
  {
   "cell_type": "code",
   "execution_count": 5,
   "metadata": {},
   "outputs": [],
   "source": [
    "#load the data after it has been preprocessed\n",
    "\n",
    "(source_int_text, target_int_text), (source_vocab_to_int, target_vocab_to_int), _ = load_preprocess()"
   ]
  },
  {
   "cell_type": "markdown",
   "metadata": {},
   "source": [
    "## Part 2: Create the RNN model"
   ]
  },
  {
   "cell_type": "markdown",
   "metadata": {},
   "source": [
    "![img](img/seq2seq.jpg)"
   ]
  },
  {
   "cell_type": "markdown",
   "metadata": {},
   "source": [
    "The seq2seq learning model in this assignment is based on this paper: https://papers.nips.cc/paper/5346-sequence-to-sequence-learning-with-neural-networks.pdf"
   ]
  },
  {
   "cell_type": "markdown",
   "metadata": {},
   "source": [
    "The translation model can be visualized in the simplest way as shown above"
   ]
  },
  {
   "cell_type": "markdown",
   "metadata": {},
   "source": [
    "Some useful functions to look up for seq to seq translation task are\n",
    "\n",
    "\n",
    "\n",
    "#### Encoder\n",
    "- [`tf.contrib.layers.embed_sequence`](https://www.tensorflow.org/api_docs/python/tf/contrib/layers/embed_sequence)\n",
    "\n",
    "RNN layers\n",
    "- [`tf.contrib.rnn.LSTMCell`](https://www.tensorflow.org/api_docs/python/tf/contrib/rnn/LSTMCell)\n",
    "  - creates an LSTM cell\n",
    "- [`tf.contrib.rnn.GRUCell`](https://www.tensorflow.org/api_docs/python/tf/nn/rnn_cell/GRUCell)\n",
    "  - creates an LSTM cell\n",
    "- [`tf.contrib.rnn.DropoutWrapper`](https://www.tensorflow.org/api_docs/python/tf/contrib/rnn/DropoutWrapper)\n",
    "  - wraps a cell with keep probability value \n",
    "- [`tf.contrib.rnn.MultiRNNCell`](https://www.tensorflow.org/api_docs/python/tf/contrib/rnn/MultiRNNCell)\n",
    "  - stacks multiple RNN (type) cells\n",
    "  \n",
    "Encoding model\n",
    "- [`tf.nn.dynamic_rnn`](https://www.tensorflow.org/api_docs/python/tf/nn/dynamic_rnn)\n",
    "  - put Embedding layer and RNN layer(s) all together\n",
    "\n",
    "#### Decoder training\n",
    "- [`tf.contrib.seq2seq.TrainingHelper`](https://www.tensorflow.org/api_docs/python/tf/contrib/seq2seq/TrainingHelper)\n",
    "  - TrainingHelper is where we pass the embeded input. As the name indicates, this is only a helper instance. This instance should be delivered to the BasicDecoder, which is the actual process of building the decoder model.\n",
    "- [`tf.contrib.seq2seq.BasicDecoder`](https://www.tensorflow.org/api_docs/python/tf/contrib/seq2seq/BasicDecoder)\n",
    "  - BasicDecoder builds the decoder model. It means it connects the RNN layer(s) on the decoder side and the input prepared by TrainingHelper.\n",
    "- [`tf.contrib.seq2seq.dynamic_decode`](https://www.tensorflow.org/api_docs/python/tf/contrib/seq2seq/dynamic_decode)\n",
    "  - dynamic_decode unrolls the decoder model so that actual prediction can be retrieved by BasicDecoder for each time steps.\n",
    "  \n",
    "#### Decoder inference\n",
    "- [`tf.contrib.seq2seq.GreedyEmbeddingHelper`](https://www.tensorflow.org/api_docs/python/tf/contrib/seq2seq/GreedyEmbeddingHelper)\n",
    "  - GreedyEmbeddingHelper dynamically takes the output of the current step and give it to the next time step's input. In order to embed the each input result dynamically, embedding parameter(just bunch of weight values) should be provided. Along with it, GreedyEmbeddingHelper asks to give the `start_of_sequence_id` for the same amount as the batch size and `end_of_sequence_id`.\n",
    "- [`tf.contrib.seq2seq.BasicDecoder`](https://www.tensorflow.org/api_docs/python/tf/contrib/seq2seq/BasicDecoder)\n",
    "  - same as described in the training process section\n",
    "- [`tf.contrib.seq2seq.dynamic_decode`](https://www.tensorflow.org/api_docs/python/tf/contrib/seq2seq/dynamic_decode)\n",
    "  - same as described in the training process section"
   ]
  },
  {
   "cell_type": "markdown",
   "metadata": {},
   "source": [
    "We also use 4 special tokens for translation:\n",
    "\n",
    "    * <PAD>: to pad the sentence so all sentences are of the same length\n",
    "    * <EOS>: to mark the end of sentence\n",
    "    * <UNK>: to mark texts which are not in our dictionary\n",
    "    * <GO>: the first token that is passed to the decoder output"
   ]
  },
  {
   "cell_type": "markdown",
   "metadata": {},
   "source": [
    "<span style=\"color:red\">__TODO:__</span>: finish the following functions in utils/nmt.py. Refer to the functions above on which functions could be helpful\n",
    "\n",
    "    * encoding_layer : creates the enncoder part of the seq-seq learning architecture.\n",
    "    * decoding_layer : creates the decoder part of the seq2seq learning architecture. This function outputs both the output during training and output during inference\n",
    "    * my_optimizer : implements the optimizer with gradient clipping"
   ]
  },
  {
   "cell_type": "markdown",
   "metadata": {},
   "source": [
    "Initially we will create a Seq2Seq model using LSTM as the building block. First we will will define all the hyperparameters required. Feel free to play around with them to improve the model performance"
   ]
  },
  {
   "cell_type": "code",
   "execution_count": 6,
   "metadata": {},
   "outputs": [],
   "source": [
    "# these are preset parameters, you can change them to get better result\n",
    "display_step = 300\n",
    "\n",
    "epochs = 13\n",
    "batch_size = 128\n",
    "\n",
    "rnn_size = 128\n",
    "num_layers = 3\n",
    "\n",
    "encoding_embedding_size = 200\n",
    "decoding_embedding_size = 200\n",
    "\n",
    "learning_rate = 0.001\n",
    "keep_probability = 0.5\n",
    "grad_clip = 5\n",
    "cell_type = 'LSTM'\n",
    "rnn1_loss_history = []"
   ]
  },
  {
   "cell_type": "markdown",
   "metadata": {},
   "source": [
    "Next we will define the graph for the model."
   ]
  },
  {
   "cell_type": "code",
   "execution_count": 8,
   "metadata": {},
   "outputs": [
    {
     "name": "stdout",
     "output_type": "stream",
     "text": [
      "WARNING:tensorflow:From D:\\Anaconda\\lib\\site-packages\\tensorflow\\python\\ops\\array_grad.py:425: to_int32 (from tensorflow.python.ops.math_ops) is deprecated and will be removed in a future version.\n",
      "Instructions for updating:\n",
      "Use tf.cast instead.\n"
     ]
    }
   ],
   "source": [
    "save_path = 'checkpoints/dev_LSTM'\n",
    "(source_int_text, target_int_text), (source_vocab_to_int, target_vocab_to_int), _ = load_preprocess()\n",
    "max_target_sentence_length = max([len(sentence) for sentence in source_int_text])\n",
    "\n",
    "train_graph = tf.Graph()\n",
    "with train_graph.as_default():\n",
    "    input_data, targets, target_sequence_length, max_target_sequence_length = enc_dec_model_inputs()\n",
    "    lr, keep_prob = hyperparam_inputs()\n",
    "    \n",
    "    train_logits, inference_logits = seq2seq_model(tf.reverse(input_data, [-1]),\n",
    "                                                   targets,\n",
    "                                                   keep_prob,\n",
    "                                                   batch_size,\n",
    "                                                   target_sequence_length,\n",
    "                                                   max_target_sequence_length,\n",
    "                                                   len(source_vocab_to_int),\n",
    "                                                   len(target_vocab_to_int),\n",
    "                                                   encoding_embedding_size,\n",
    "                                                   decoding_embedding_size,\n",
    "                                                   rnn_size,\n",
    "                                                   num_layers,\n",
    "                                                   target_vocab_to_int,\n",
    "                                                   cell_type)\n",
    "    \n",
    "    training_logits = tf.identity(train_logits.rnn_output, name='logits')\n",
    "    inference_logits = tf.identity(inference_logits.sample_id, name='predictions')\n",
    "    # - Returns a mask tensor representing the first N positions of each cell.\n",
    "    masks = tf.sequence_mask(target_sequence_length, max_target_sequence_length, dtype=tf.float32, name='masks')\n",
    "\n",
    "    with tf.name_scope(\"optimization\"):\n",
    "        # Loss function - weighted softmax cross entropy\n",
    "        cost = tf.contrib.seq2seq.sequence_loss(\n",
    "            training_logits,\n",
    "            targets,\n",
    "            masks)\n",
    "\n",
    "        # Optimizer\n",
    "        train_op = my_optimizer(cost,grad_clip,lr)\n",
    "\n"
   ]
  },
  {
   "cell_type": "markdown",
   "metadata": {},
   "source": [
    "Once the graph has been defined we will train the seq2seq model to perform the translations"
   ]
  },
  {
   "cell_type": "code",
   "execution_count": 9,
   "metadata": {},
   "outputs": [
    {
     "name": "stdout",
     "output_type": "stream",
     "text": [
      "Epoch   0 Batch  300/1077 - Train Accuracy: 0.5985, Validation Accuracy: 0.6003, Loss: 1.4946\n",
      "Epoch   0 Batch  600/1077 - Train Accuracy: 0.6858, Validation Accuracy: 0.7027, Loss: 1.0231\n",
      "Epoch   0 Batch  900/1077 - Train Accuracy: 0.6719, Validation Accuracy: 0.7105, Loss: 0.8380\n",
      "Epoch   1 Batch  300/1077 - Train Accuracy: 0.7439, Validation Accuracy: 0.7565, Loss: 0.6905\n",
      "Epoch   1 Batch  600/1077 - Train Accuracy: 0.7691, Validation Accuracy: 0.7669, Loss: 0.6315\n",
      "Epoch   1 Batch  900/1077 - Train Accuracy: 0.7721, Validation Accuracy: 0.7734, Loss: 0.6088\n",
      "Epoch   2 Batch  300/1077 - Train Accuracy: 0.7826, Validation Accuracy: 0.7873, Loss: 0.5677\n",
      "Epoch   2 Batch  600/1077 - Train Accuracy: 0.7977, Validation Accuracy: 0.7891, Loss: 0.5163\n",
      "Epoch   2 Batch  900/1077 - Train Accuracy: 0.7808, Validation Accuracy: 0.7943, Loss: 0.5095\n",
      "Epoch   3 Batch  300/1077 - Train Accuracy: 0.8116, Validation Accuracy: 0.8043, Loss: 0.4598\n",
      "Epoch   3 Batch  600/1077 - Train Accuracy: 0.8090, Validation Accuracy: 0.8177, Loss: 0.4194\n",
      "Epoch   3 Batch  900/1077 - Train Accuracy: 0.8125, Validation Accuracy: 0.8155, Loss: 0.4083\n",
      "Epoch   4 Batch  300/1077 - Train Accuracy: 0.8485, Validation Accuracy: 0.8381, Loss: 0.3687\n",
      "Epoch   4 Batch  600/1077 - Train Accuracy: 0.8516, Validation Accuracy: 0.8563, Loss: 0.3320\n",
      "Epoch   4 Batch  900/1077 - Train Accuracy: 0.8459, Validation Accuracy: 0.8568, Loss: 0.3321\n",
      "Epoch   5 Batch  300/1077 - Train Accuracy: 0.8872, Validation Accuracy: 0.8698, Loss: 0.2870\n",
      "Epoch   5 Batch  600/1077 - Train Accuracy: 0.8845, Validation Accuracy: 0.8802, Loss: 0.2567\n",
      "Epoch   5 Batch  900/1077 - Train Accuracy: 0.8832, Validation Accuracy: 0.8789, Loss: 0.2915\n",
      "Epoch   6 Batch  300/1077 - Train Accuracy: 0.9080, Validation Accuracy: 0.8898, Loss: 0.2239\n",
      "Epoch   6 Batch  600/1077 - Train Accuracy: 0.9067, Validation Accuracy: 0.8989, Loss: 0.2140\n",
      "Epoch   6 Batch  900/1077 - Train Accuracy: 0.9266, Validation Accuracy: 0.9154, Loss: 0.1962\n",
      "Epoch   7 Batch  300/1077 - Train Accuracy: 0.9431, Validation Accuracy: 0.9340, Loss: 0.1270\n",
      "Epoch   7 Batch  600/1077 - Train Accuracy: 0.9457, Validation Accuracy: 0.9436, Loss: 0.1177\n",
      "Epoch   7 Batch  900/1077 - Train Accuracy: 0.9492, Validation Accuracy: 0.9527, Loss: 0.1284\n",
      "Epoch   8 Batch  300/1077 - Train Accuracy: 0.9653, Validation Accuracy: 0.9596, Loss: 0.0853\n",
      "Epoch   8 Batch  600/1077 - Train Accuracy: 0.9579, Validation Accuracy: 0.9614, Loss: 0.0827\n",
      "Epoch   8 Batch  900/1077 - Train Accuracy: 0.9544, Validation Accuracy: 0.9562, Loss: 0.0953\n",
      "Epoch   9 Batch  300/1077 - Train Accuracy: 0.9609, Validation Accuracy: 0.9583, Loss: 0.0733\n",
      "Epoch   9 Batch  600/1077 - Train Accuracy: 0.9605, Validation Accuracy: 0.9631, Loss: 0.0715\n",
      "Epoch   9 Batch  900/1077 - Train Accuracy: 0.9553, Validation Accuracy: 0.9601, Loss: 0.0850\n",
      "Epoch  10 Batch  300/1077 - Train Accuracy: 0.9674, Validation Accuracy: 0.9627, Loss: 0.0638\n",
      "Epoch  10 Batch  600/1077 - Train Accuracy: 0.9674, Validation Accuracy: 0.9653, Loss: 0.0580\n",
      "Epoch  10 Batch  900/1077 - Train Accuracy: 0.9688, Validation Accuracy: 0.9714, Loss: 0.0694\n",
      "Epoch  11 Batch  300/1077 - Train Accuracy: 0.9735, Validation Accuracy: 0.9705, Loss: 0.0474\n",
      "Epoch  11 Batch  600/1077 - Train Accuracy: 0.9701, Validation Accuracy: 0.9722, Loss: 0.0497\n",
      "Epoch  11 Batch  900/1077 - Train Accuracy: 0.9718, Validation Accuracy: 0.9783, Loss: 0.0644\n",
      "Epoch  12 Batch  300/1077 - Train Accuracy: 0.9796, Validation Accuracy: 0.9761, Loss: 0.0391\n",
      "Epoch  12 Batch  600/1077 - Train Accuracy: 0.9722, Validation Accuracy: 0.9774, Loss: 0.0422\n",
      "Epoch  12 Batch  900/1077 - Train Accuracy: 0.9740, Validation Accuracy: 0.9813, Loss: 0.0473\n",
      "Model Trained and Saved\n"
     ]
    }
   ],
   "source": [
    "\n",
    "\n",
    "# Split data to training and validation sets\n",
    "train_source = source_int_text[batch_size:]\n",
    "train_target = target_int_text[batch_size:]\n",
    "valid_source = source_int_text[:batch_size]\n",
    "valid_target = target_int_text[:batch_size]\n",
    "(valid_sources_batch, valid_targets_batch, valid_sources_lengths, valid_targets_lengths ) = next(get_batches(valid_source,\n",
    "                                                                                                             valid_target,\n",
    "                                                                                                             batch_size,\n",
    "                                                                                                             source_vocab_to_int['<PAD>'],\n",
    "                                                                                                             target_vocab_to_int['<PAD>']))                                                                                                  \n",
    "\n",
    "with tf.Session(graph=train_graph) as sess:\n",
    "    sess.run(tf.global_variables_initializer())\n",
    "\n",
    "    for epoch_i in range(epochs):\n",
    "        for batch_i, (source_batch, target_batch, sources_lengths, targets_lengths) in enumerate(\n",
    "                get_batches(train_source, train_target, batch_size,\n",
    "                            source_vocab_to_int['<PAD>'],\n",
    "                            target_vocab_to_int['<PAD>'])):\n",
    "            _, loss = sess.run(\n",
    "                [train_op, cost],\n",
    "                {input_data: source_batch,\n",
    "                 targets: target_batch,\n",
    "                 lr: learning_rate,\n",
    "                 target_sequence_length: targets_lengths,\n",
    "                 keep_prob: keep_probability})\n",
    "            rnn1_loss_history.append(loss)\n",
    "            \n",
    "\n",
    "            if batch_i % display_step == 0 and batch_i > 0:\n",
    "                batch_train_logits = sess.run(\n",
    "                    inference_logits,\n",
    "                    {input_data: source_batch,\n",
    "                     target_sequence_length: targets_lengths,\n",
    "                     keep_prob: 1.0})\n",
    "\n",
    "                batch_valid_logits = sess.run(\n",
    "                    inference_logits,\n",
    "                    {input_data: valid_sources_batch,\n",
    "                     target_sequence_length: valid_targets_lengths,\n",
    "                     keep_prob: 1.0})\n",
    "\n",
    "                train_acc = get_accuracy(target_batch, batch_train_logits)\n",
    "                valid_acc = get_accuracy(valid_targets_batch, batch_valid_logits)\n",
    "\n",
    "                print('Epoch {:>3} Batch {:>4}/{} - Train Accuracy: {:>6.4f}, Validation Accuracy: {:>6.4f}, Loss: {:>6.4f}'\n",
    "                      .format(epoch_i, batch_i, len(source_int_text) // batch_size, train_acc, valid_acc, loss))\n",
    "\n",
    "    # Save Model\n",
    "    saver = tf.train.Saver()\n",
    "    saver.save(sess, save_path)\n",
    "    print('Model Trained and Saved')"
   ]
  },
  {
   "cell_type": "code",
   "execution_count": 10,
   "metadata": {},
   "outputs": [],
   "source": [
    "# Save parameters for checkpoint\n",
    "save_params(save_path,cell_type)"
   ]
  },
  {
   "cell_type": "code",
   "execution_count": 11,
   "metadata": {},
   "outputs": [
    {
     "data": {
      "image/png": "[encoded data removed]",
      "text/plain": [
       "<Figure size 432x288 with 1 Axes>"
      ]
     },
     "metadata": {
      "needs_background": "light"
     },
     "output_type": "display_data"
    }
   ],
   "source": [
    "# plot loss history\n",
    "plt.plot(rnn1_loss_history)\n",
    "#plt.xlabel('Epoch x Batch Number')\n",
    "plt.ylabel('Training_loss')\n",
    "plt.show()"
   ]
  },
  {
   "cell_type": "markdown",
   "metadata": {},
   "source": [
    "### Change another type of RNN cell\n",
    "We are using LSTM cell as the original work, but GRU cell is getting more popular today, let's chage the cell type layer to GRU cell and see how it performs. Your parameters should be the same as above to compare the two units"
   ]
  },
  {
   "cell_type": "code",
   "execution_count": 14,
   "metadata": {},
   "outputs": [],
   "source": [
    "# these are preset parameters, you can change them to get better result\n",
    "display_step = 300\n",
    "\n",
    "epochs = 13\n",
    "batch_size = 128\n",
    "\n",
    "rnn_size = 128\n",
    "num_layers = 3\n",
    "\n",
    "encoding_embedding_size = 200\n",
    "decoding_embedding_size = 200\n",
    "\n",
    "learning_rate = 0.001\n",
    "keep_probability = 0.5\n",
    "grad_clip = 5\n",
    "cell_type = 'GRU' #THIS IS CHANGED TO GRU\n",
    "rnn2_loss_history = []"
   ]
  },
  {
   "cell_type": "code",
   "execution_count": 15,
   "metadata": {},
   "outputs": [
    {
     "name": "stdout",
     "output_type": "stream",
     "text": [
      "WARNING:tensorflow:From C:\\Users\\shrav\\Documents\\GitHub\\e4040-2019fall-assign3-amr2331\\utils\\nmt.py:188: GRUCell.__init__ (from tensorflow.python.ops.rnn_cell_impl) is deprecated and will be removed in a future version.\n",
      "Instructions for updating:\n",
      "This class is equivalent as tf.keras.layers.GRUCell, and will be replaced by that in Tensorflow 2.0.\n"
     ]
    }
   ],
   "source": [
    "save_path = 'checkpoints/dev_GRU'\n",
    "(source_int_text, target_int_text), (source_vocab_to_int, target_vocab_to_int), _ = load_preprocess()\n",
    "max_target_sentence_length = max([len(sentence) for sentence in source_int_text])\n",
    "\n",
    "train_graph = tf.Graph()\n",
    "with train_graph.as_default():\n",
    "    input_data, targets, target_sequence_length, max_target_sequence_length = enc_dec_model_inputs()\n",
    "    lr, keep_prob = hyperparam_inputs()\n",
    "    \n",
    "    train_logits, inference_logits = seq2seq_model(tf.reverse(input_data, [-1]),\n",
    "                                                   targets,\n",
    "                                                   keep_prob,\n",
    "                                                   batch_size,\n",
    "                                                   target_sequence_length,\n",
    "                                                   max_target_sequence_length,\n",
    "                                                   len(source_vocab_to_int),\n",
    "                                                   len(target_vocab_to_int),\n",
    "                                                   encoding_embedding_size,\n",
    "                                                   decoding_embedding_size,\n",
    "                                                   rnn_size,\n",
    "                                                   num_layers,\n",
    "                                                   target_vocab_to_int,\n",
    "                                                   cell_type)\n",
    "    \n",
    "    training_logits = tf.identity(train_logits.rnn_output, name='logits')\n",
    "    inference_logits = tf.identity(inference_logits.sample_id, name='predictions')\n",
    "\n",
    "    # https://www.tensorflow.org/api_docs/python/tf/sequence_mask\n",
    "    # - Returns a mask tensor representing the first N positions of each cell.\n",
    "    masks = tf.sequence_mask(target_sequence_length, max_target_sequence_length, dtype=tf.float32, name='masks')\n",
    "\n",
    "    with tf.name_scope(\"optimization\"):\n",
    "        # Loss function - weighted softmax cross entropy\n",
    "        cost = tf.contrib.seq2seq.sequence_loss(\n",
    "            training_logits,\n",
    "            targets,\n",
    "            masks)\n",
    "\n",
    "        # Optimizer\n",
    "        train_op = my_optimizer(cost,grad_clip,lr)\n",
    "\n"
   ]
  },
  {
   "cell_type": "code",
   "execution_count": 16,
   "metadata": {},
   "outputs": [
    {
     "name": "stdout",
     "output_type": "stream",
     "text": [
      "Epoch   0 Batch  300/1077 - Train Accuracy: 0.5859, Validation Accuracy: 0.6202, Loss: 1.1211\n",
      "Epoch   0 Batch  600/1077 - Train Accuracy: 0.7396, Validation Accuracy: 0.7326, Loss: 0.7289\n",
      "Epoch   0 Batch  900/1077 - Train Accuracy: 0.7457, Validation Accuracy: 0.7717, Loss: 0.6537\n",
      "Epoch   1 Batch  300/1077 - Train Accuracy: 0.7865, Validation Accuracy: 0.7830, Loss: 0.5645\n",
      "Epoch   1 Batch  600/1077 - Train Accuracy: 0.8129, Validation Accuracy: 0.8177, Loss: 0.5122\n",
      "Epoch   1 Batch  900/1077 - Train Accuracy: 0.8181, Validation Accuracy: 0.8207, Loss: 0.4816\n",
      "Epoch   2 Batch  300/1077 - Train Accuracy: 0.8568, Validation Accuracy: 0.8524, Loss: 0.3871\n",
      "Epoch   2 Batch  600/1077 - Train Accuracy: 0.8789, Validation Accuracy: 0.8598, Loss: 0.3423\n",
      "Epoch   2 Batch  900/1077 - Train Accuracy: 0.8906, Validation Accuracy: 0.8906, Loss: 0.3220\n",
      "Epoch   3 Batch  300/1077 - Train Accuracy: 0.9219, Validation Accuracy: 0.9197, Loss: 0.2565\n",
      "Epoch   3 Batch  600/1077 - Train Accuracy: 0.9280, Validation Accuracy: 0.9232, Loss: 0.2252\n",
      "Epoch   3 Batch  900/1077 - Train Accuracy: 0.9323, Validation Accuracy: 0.9275, Loss: 0.2054\n",
      "Epoch   4 Batch  300/1077 - Train Accuracy: 0.9501, Validation Accuracy: 0.9388, Loss: 0.1458\n",
      "Epoch   4 Batch  600/1077 - Train Accuracy: 0.9453, Validation Accuracy: 0.9418, Loss: 0.1238\n",
      "Epoch   4 Batch  900/1077 - Train Accuracy: 0.9488, Validation Accuracy: 0.9449, Loss: 0.1266\n",
      "Epoch   5 Batch  300/1077 - Train Accuracy: 0.9540, Validation Accuracy: 0.9444, Loss: 0.1116\n",
      "Epoch   5 Batch  600/1077 - Train Accuracy: 0.9523, Validation Accuracy: 0.9531, Loss: 0.0978\n",
      "Epoch   5 Batch  900/1077 - Train Accuracy: 0.9627, Validation Accuracy: 0.9627, Loss: 0.0928\n",
      "Epoch   6 Batch  300/1077 - Train Accuracy: 0.9696, Validation Accuracy: 0.9661, Loss: 0.0815\n",
      "Epoch   6 Batch  600/1077 - Train Accuracy: 0.9644, Validation Accuracy: 0.9657, Loss: 0.0698\n",
      "Epoch   6 Batch  900/1077 - Train Accuracy: 0.9657, Validation Accuracy: 0.9701, Loss: 0.0740\n",
      "Epoch   7 Batch  300/1077 - Train Accuracy: 0.9718, Validation Accuracy: 0.9648, Loss: 0.0734\n",
      "Epoch   7 Batch  600/1077 - Train Accuracy: 0.9727, Validation Accuracy: 0.9735, Loss: 0.0567\n",
      "Epoch   7 Batch  900/1077 - Train Accuracy: 0.9740, Validation Accuracy: 0.9744, Loss: 0.0598\n",
      "Epoch   8 Batch  300/1077 - Train Accuracy: 0.9757, Validation Accuracy: 0.9705, Loss: 0.0472\n",
      "Epoch   8 Batch  600/1077 - Train Accuracy: 0.9779, Validation Accuracy: 0.9735, Loss: 0.0514\n",
      "Epoch   8 Batch  900/1077 - Train Accuracy: 0.9753, Validation Accuracy: 0.9740, Loss: 0.0547\n",
      "Epoch   9 Batch  300/1077 - Train Accuracy: 0.9783, Validation Accuracy: 0.9661, Loss: 0.0464\n",
      "Epoch   9 Batch  600/1077 - Train Accuracy: 0.9761, Validation Accuracy: 0.9748, Loss: 0.0460\n",
      "Epoch   9 Batch  900/1077 - Train Accuracy: 0.9787, Validation Accuracy: 0.9800, Loss: 0.0489\n",
      "Epoch  10 Batch  300/1077 - Train Accuracy: 0.9805, Validation Accuracy: 0.9766, Loss: 0.0375\n",
      "Epoch  10 Batch  600/1077 - Train Accuracy: 0.9761, Validation Accuracy: 0.9792, Loss: 0.0417\n",
      "Epoch  10 Batch  900/1077 - Train Accuracy: 0.9792, Validation Accuracy: 0.9787, Loss: 0.0443\n",
      "Epoch  11 Batch  300/1077 - Train Accuracy: 0.9783, Validation Accuracy: 0.9774, Loss: 0.0346\n",
      "Epoch  11 Batch  600/1077 - Train Accuracy: 0.9809, Validation Accuracy: 0.9779, Loss: 0.0362\n",
      "Epoch  11 Batch  900/1077 - Train Accuracy: 0.9800, Validation Accuracy: 0.9805, Loss: 0.0401\n",
      "Epoch  12 Batch  300/1077 - Train Accuracy: 0.9805, Validation Accuracy: 0.9748, Loss: 0.0320\n",
      "Epoch  12 Batch  600/1077 - Train Accuracy: 0.9722, Validation Accuracy: 0.9783, Loss: 0.0347\n",
      "Epoch  12 Batch  900/1077 - Train Accuracy: 0.9796, Validation Accuracy: 0.9809, Loss: 0.0394\n",
      "Model Trained and Saved\n"
     ]
    }
   ],
   "source": [
    "\n",
    "\n",
    "# Split data to training and validation sets\n",
    "train_source = source_int_text[batch_size:]\n",
    "train_target = target_int_text[batch_size:]\n",
    "valid_source = source_int_text[:batch_size]\n",
    "valid_target = target_int_text[:batch_size]\n",
    "(valid_sources_batch, valid_targets_batch, valid_sources_lengths, valid_targets_lengths ) = next(get_batches(valid_source,\n",
    "                                                                                                             valid_target,\n",
    "                                                                                                             batch_size,\n",
    "                                                                                                             source_vocab_to_int['<PAD>'],\n",
    "                                                                                                             target_vocab_to_int['<PAD>']))                                                                                                  \n",
    "with tf.Session(graph=train_graph) as sess:\n",
    "    sess.run(tf.global_variables_initializer())\n",
    "\n",
    "    for epoch_i in range(epochs):\n",
    "        for batch_i, (source_batch, target_batch, sources_lengths, targets_lengths) in enumerate(\n",
    "                get_batches(train_source, train_target, batch_size,\n",
    "                            source_vocab_to_int['<PAD>'],\n",
    "                            target_vocab_to_int['<PAD>'])):\n",
    "\n",
    "            _, loss = sess.run(\n",
    "                [train_op, cost],\n",
    "                {input_data: source_batch,\n",
    "                 targets: target_batch,\n",
    "                 lr: learning_rate,\n",
    "                 target_sequence_length: targets_lengths,\n",
    "                 keep_prob: keep_probability})\n",
    "            rnn2_loss_history.append(loss)\n",
    "\n",
    "\n",
    "            if batch_i % display_step == 0 and batch_i > 0:\n",
    "                batch_train_logits = sess.run(\n",
    "                    inference_logits,\n",
    "                    {input_data: source_batch,\n",
    "                     target_sequence_length: targets_lengths,\n",
    "                     keep_prob: 1.0})\n",
    "\n",
    "                batch_valid_logits = sess.run(\n",
    "                    inference_logits,\n",
    "                    {input_data: valid_sources_batch,\n",
    "                     target_sequence_length: valid_targets_lengths,\n",
    "                     keep_prob: 1.0})\n",
    "\n",
    "                train_acc = get_accuracy(target_batch, batch_train_logits)\n",
    "                valid_acc = get_accuracy(valid_targets_batch, batch_valid_logits)\n",
    "\n",
    "                print('Epoch {:>3} Batch {:>4}/{} - Train Accuracy: {:>6.4f}, Validation Accuracy: {:>6.4f}, Loss: {:>6.4f}'\n",
    "                      .format(epoch_i, batch_i, len(source_int_text) // batch_size, train_acc, valid_acc, loss))\n",
    "\n",
    "    # Save Model\n",
    "    saver = tf.train.Saver()\n",
    "    saver.save(sess, save_path)\n",
    "    print('Model Trained and Saved')"
   ]
  },
  {
   "cell_type": "code",
   "execution_count": 17,
   "metadata": {},
   "outputs": [],
   "source": [
    "# Save parameters for checkpoint\n",
    "save_params(save_path,cell_type)"
   ]
  },
  {
   "cell_type": "code",
   "execution_count": 18,
   "metadata": {},
   "outputs": [
    {
     "data": {
      "image/png": "[encoded data removed]",
      "text/plain": [
       "<Figure size 432x288 with 1 Axes>"
      ]
     },
     "metadata": {
      "needs_background": "light"
     },
     "output_type": "display_data"
    }
   ],
   "source": [
    "# plot loss history\n",
    "plt.plot(rnn2_loss_history)\n",
    "#plt.xlabel('Epoch x Batch Number')\n",
    "plt.ylabel('Training_loss')\n",
    "plt.show()"
   ]
  },
  {
   "cell_type": "markdown",
   "metadata": {},
   "source": [
    "## Translate\n",
    "This will translate translate_sentence from French to English"
   ]
  },
  {
   "cell_type": "code",
   "execution_count": 20,
   "metadata": {},
   "outputs": [],
   "source": [
    "cell_type = \"LSTM\" #change this to LSTM or GRU to traslate using appropriate model\n",
    "_, (source_vocab_to_int, target_vocab_to_int), (source_int_to_vocab, target_int_to_vocab) = load_preprocess()\n",
    "load_path = load_params(cell_type)"
   ]
  },
  {
   "cell_type": "code",
   "execution_count": 21,
   "metadata": {},
   "outputs": [
    {
     "name": "stdout",
     "output_type": "stream",
     "text": [
      "WARNING:tensorflow:From D:\\Anaconda\\lib\\site-packages\\tensorflow\\python\\training\\saver.py:1266: checkpoint_exists (from tensorflow.python.training.checkpoint_management) is deprecated and will be removed in a future version.\n",
      "Instructions for updating:\n",
      "Use standard file APIs to check for files with this prefix.\n",
      "INFO:tensorflow:Restoring parameters from checkpoints/dev_LSTM\n",
      "Input\n",
      "  Word Ids:      [119, 132, 293, 182, 217, 223, 24, 139, 256, 67, 176, 293, 99, 178, 8, 147]\n",
      "  French Words: ['new', 'jersey', 'est', 'parfois', 'calme', 'pendant', \"l'\", 'automne', ',', 'et', 'il', 'est', 'neigeux', 'en', 'avril', '.']\n",
      "\n",
      "Prediction\n",
      "  Word Ids:      [103, 134, 32, 200, 161, 79, 51, 23, 17, 165, 32, 200, 184, 205, 107, 170, 1]\n",
      "  English Words: new jersey is sometimes quiet during fall , and it is sometimes snowy in april . <EOS>\n",
      "\n",
      "Correct translation\n",
      "  English Words: new jersey is sometimes quiet during autumn , and it is snowy in april .\n"
     ]
    }
   ],
   "source": [
    "\n",
    "\n",
    "translate_sentence = side_by_side_sentences[0][1]\n",
    "correct_translation = side_by_side_sentences[0][0]\n",
    "\n",
    "translate_sentence = sentence_to_seq(translate_sentence, source_vocab_to_int)\n",
    "\n",
    "loaded_graph = tf.Graph()\n",
    "with tf.Session(graph=loaded_graph) as sess:\n",
    "    # Load saved model\n",
    "    loader = tf.train.import_meta_graph(load_path + '.meta')\n",
    "    loader.restore(sess, load_path)\n",
    "\n",
    "    input_data = loaded_graph.get_tensor_by_name('input:0')\n",
    "    logits = loaded_graph.get_tensor_by_name('predictions:0')\n",
    "    target_sequence_length = loaded_graph.get_tensor_by_name('target_sequence_length:0')\n",
    "    keep_prob = loaded_graph.get_tensor_by_name('keep_prob:0')\n",
    "\n",
    "    translate_logits = sess.run(logits, {input_data: [translate_sentence]*batch_size,\n",
    "                                         target_sequence_length: [len(translate_sentence)*2]*batch_size,\n",
    "                                         keep_prob: 1.0})[0]\n",
    "\n",
    "print('Input')\n",
    "print('  Word Ids:      {}'.format([i for i in translate_sentence]))\n",
    "print('  French Words: {}'.format([source_int_to_vocab[i] for i in translate_sentence]))\n",
    "\n",
    "print('\\nPrediction')\n",
    "print('  Word Ids:      {}'.format([i for i in translate_logits]))\n",
    "print('  English Words: {}'.format(\" \".join([target_int_to_vocab[i] for i in translate_logits])))\n",
    "\n",
    "print('\\nCorrect translation')\n",
    "print('  English Words: {}'.format(correct_translation))"
   ]
  },
  {
   "cell_type": "code",
   "execution_count": 22,
   "metadata": {},
   "outputs": [],
   "source": [
    "cell_type = \"GRU\" #change this to LSTM or GRU to traslate using appropriate model\n",
    "_, (source_vocab_to_int, target_vocab_to_int), (source_int_to_vocab, target_int_to_vocab) = load_preprocess()\n",
    "load_path = load_params(cell_type)"
   ]
  },
  {
   "cell_type": "code",
   "execution_count": 23,
   "metadata": {},
   "outputs": [
    {
     "name": "stdout",
     "output_type": "stream",
     "text": [
      "INFO:tensorflow:Restoring parameters from checkpoints/dev_GRU\n",
      "Input\n",
      "  Word Ids:      [119, 132, 293, 182, 217, 223, 24, 139, 256, 67, 176, 293, 99, 178, 8, 147]\n",
      "  French Words: ['new', 'jersey', 'est', 'parfois', 'calme', 'pendant', \"l'\", 'automne', ',', 'et', 'il', 'est', 'neigeux', 'en', 'avril', '.']\n",
      "\n",
      "Prediction\n",
      "  Word Ids:      [103, 134, 32, 200, 161, 79, 51, 23, 17, 165, 32, 184, 205, 107, 170, 1]\n",
      "  English Words: new jersey is sometimes quiet during fall , and it is snowy in april . <EOS>\n",
      "\n",
      "Correct translation\n",
      "  English Words: new jersey is sometimes quiet during autumn , and it is snowy in april .\n"
     ]
    }
   ],
   "source": [
    "\n",
    "\n",
    "translate_sentence = side_by_side_sentences[0][1]\n",
    "correct_translation = side_by_side_sentences[0][0]\n",
    "\n",
    "translate_sentence = sentence_to_seq(translate_sentence, source_vocab_to_int)\n",
    "\n",
    "loaded_graph = tf.Graph()\n",
    "with tf.Session(graph=loaded_graph) as sess:\n",
    "    # Load saved model\n",
    "    loader = tf.train.import_meta_graph(load_path + '.meta')\n",
    "    loader.restore(sess, load_path)\n",
    "\n",
    "    input_data = loaded_graph.get_tensor_by_name('input:0')\n",
    "    logits = loaded_graph.get_tensor_by_name('predictions:0')\n",
    "    target_sequence_length = loaded_graph.get_tensor_by_name('target_sequence_length:0')\n",
    "    keep_prob = loaded_graph.get_tensor_by_name('keep_prob:0')\n",
    "\n",
    "    translate_logits = sess.run(logits, {input_data: [translate_sentence]*batch_size,\n",
    "                                         target_sequence_length: [len(translate_sentence)*2]*batch_size,\n",
    "                                         keep_prob: 1.0})[0]\n",
    "\n",
    "print('Input')\n",
    "print('  Word Ids:      {}'.format([i for i in translate_sentence]))\n",
    "print('  French Words: {}'.format([source_int_to_vocab[i] for i in translate_sentence]))\n",
    "\n",
    "print('\\nPrediction')\n",
    "print('  Word Ids:      {}'.format([i for i in translate_logits]))\n",
    "print('  English Words: {}'.format(\" \".join([target_int_to_vocab[i] for i in translate_logits])))\n",
    "\n",
    "print('\\nCorrect translation')\n",
    "print('  English Words: {}'.format(correct_translation))"
   ]
  },
  {
   "cell_type": "markdown",
   "metadata": {},
   "source": [
    "#### Compare your result and list pros and cons of using GRU cells compared to LSTM"
   ]
  },
  {
   "cell_type": "markdown",
   "metadata": {},
   "source": [
    "Answer:It is clear from the experiment that GRU predicted the second part of the sentence correctly. LSTM seems to add word sometimes in the second part. In the first part of the sentence both seem to make the same mistake of considering autumn as fall. \n",
    "<br>The pros and cons of GRU and LSTM are described below:-\n",
    "<br>1) GRU is computationally less complex structure and is more efficient.\n",
    "<br>2) LSTM has 3 gates i.e input, forget gates and, output and, GRU has 2 gates i.e reset and, update.\n",
    "<br>3) GRU controls information flow without a memory unit hence hidden data has full chance of exposure. Since LSTM has a memory unit, the hidden units are stored in it and information control isn't exposed.\n",
    "<br>4) LSTM remember longer sequences than GRUs and outperforms GRU models requiring long-distance relations theoretically."
   ]
  }
 ],
 "metadata": {
  "kernelspec": {
   "display_name": "Python 3",
   "language": "python",
   "name": "python3"
  },
  "language_info": {
   "codemirror_mode": {
    "name": "ipython",
    "version": 3
   },
   "file_extension": ".py",
   "mimetype": "text/x-python",
   "name": "python",
   "nbconvert_exporter": "python",
   "pygments_lexer": "ipython3",
   "version": "3.7.3"
  }
 },
 "nbformat": 4,
 "nbformat_minor": 4
}

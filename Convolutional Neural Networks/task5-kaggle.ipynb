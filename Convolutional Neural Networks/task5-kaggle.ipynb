{
 "cells": [
  {
   "cell_type": "markdown",
   "metadata": {},
   "source": [
    "# ECBM E4040 - Assignment 2- Task 5: Kaggle Open-ended Competition\n",
    "\n",
    "Kaggle is a platform for predictive modelling and analytics competitions in which companies and researchers post data and statisticians and data miners compete to produce the best models for predicting and describing the data.\n",
    "\n",
    "If you don't have a Kaggle account, feel free to join at [www.kaggle.com](https://www.kaggle.com). To let the CAs do the grading more conveniently, please __use Lionmail to join Kaggle__ and __use UNI as your username__.\n",
    "\n",
    "The website for this competition is: \n",
    "https://www.kaggle.com/c/e4040fall2019-assignment-2-task-5\n",
    "\n",
    "You can find detailed description about this in-class competition on the website above. Please read carefully and follow the instructions.\n",
    "\n",
    "<span style=\"color:red\">__TODO__:</span>\n",
    "1. Train a custom model for the bottle dataset classification problem. You are free to use any methods taught in the class or found by yourself on the Internet (ALWAYS provide reference to the source) but __TF 2.0 is not allowed to use in this competition__. General training methods include:\n",
    "    * Dropout\n",
    "    * Batch normalization\n",
    "    * Early stopping\n",
    "    * l1-norm & l2-norm penalization\n",
    "2. You'll be given the test set to generate your predictions (70% public + 30% private, but you don't know which ones are public/private). Achieve 70% accuracy on the public test set. The accuracy will be shown on the public leaderboard once you submit your prediction .csv file. The private leaderboard would be released after the competition. The final ranking would based on that result, not the public one.\n",
    "3. \n",
    "\n",
    "    * Report your results on the Kaggle, for comparison with other students' optimal results (you can do this several times). \n",
    "    * Save your best model, using Github Classroom, at the same time when you submit the homework files into Courseworks. See instructions below. \n",
    "\n",
    "__Hint__: You can start from what you implemented in task 4. Another classic classification model named 'VGG16' can also be easily implemented."
   ]
  },
  {
   "cell_type": "markdown",
   "metadata": {},
   "source": [
    "## HW Submission Details:\n",
    "There are three components to reporting the results of this task: \n",
    "\n",
    "**(A) Submission (up to 20 submissions each day) of the .csv prediction file throught the Kaggle platform;**. You should start doing this __VERY early__, so that students can compare their work as they are making progress with model optimization.\n",
    "\n",
    "**(B) Editing and submitting the content of this Jupyter notebook, through Courseworks; **\n",
    "(i) The code for your CNN model and for the training function. The code should be stored in __./ecbm4040/neuralnets/kaggle.py__;\n",
    "(ii) Print out your training process and accuracy __within this notebook__;\n",
    "\n",
    "**(C) Submitting your best CNN model through Github Classroom repo.**\n",
    "\n",
    "**Description of (C):** \n",
    "For this task, we will continue to use Github classroom to save your model for submission. \n",
    "\n",
    "<span style=\"color:red\">__Submission content:__ :</span>\n",
    "(i) In your Assignment 2 submission folder, create a subfolder called __KaggleModel__. Upload your best model with all the data output (for example, __MODEL.data-00000-of-00001, MODEL.meta, MODEL.index__) into the folder. \n",
    "(ii) Remember to delete any intermediate results, **we only want your best model. Do not upload any data files**. The instructors will rerun the uploaded best model and verify against the score which you reported on the Kaggle.\n",
    "\n"
   ]
  },
  {
   "cell_type": "markdown",
   "metadata": {},
   "source": [
    "## Train your model here"
   ]
  },
  {
   "cell_type": "code",
   "execution_count": 5,
   "metadata": {},
   "outputs": [
    {
     "name": "stdout",
     "output_type": "stream",
     "text": [
      "(15000, 128, 128, 3) (15000,)\n"
     ]
    }
   ],
   "source": [
    "import glob\n",
    "import numpy as np\n",
    "import scipy\n",
    "import warnings\n",
    "import tensorflow as tf\n",
    "from matplotlib import pyplot as plt\n",
    "warnings.filterwarnings('ignore')\n",
    "\n",
    "# image_list = []\n",
    "# for filename in glob.glob('./train_128/0/*.png'):\n",
    "#     im = plt.imread(filename)\n",
    "#     image_list.append(im)\n",
    "# for filename in glob.glob('./train_128/1/*.png'):\n",
    "#     im = plt.imread(filename)\n",
    "#     image_list.append(im)\n",
    "# for filename in glob.glob('./train_128/2/*.png'):\n",
    "#     im = plt.imread(filename)\n",
    "#     image_list.append(im)\n",
    "# for filename in glob.glob('./train_128/3/*.png'):\n",
    "#     im = plt.imread(filename)\n",
    "#     image_list.append(im)\n",
    "# for filename in glob.glob('./train_128/4/*.png'):\n",
    "#     im = plt.imread(filename)\n",
    "#     image_list.append(im)\n",
    "\n",
    "image_list = []\n",
    "for filename in glob.glob('./train_128/0/*.png'):\n",
    "    im = scipy.ndimage.imread(filename)\n",
    "    image_list.append(im)\n",
    "for filename in glob.glob('./train_128/1/*.png'):\n",
    "    im = scipy.ndimage.imread(filename)\n",
    "    image_list.append(im)\n",
    "for filename in glob.glob('./train_128/2/*.png'):\n",
    "    im = scipy.ndimage.imread(filename)\n",
    "    image_list.append(im)\n",
    "for filename in glob.glob('./train_128/3/*.png'):\n",
    "    im = scipy.ndimage.imread(filename)\n",
    "    image_list.append(im)\n",
    "for filename in glob.glob('./train_128/4/*.png'):\n",
    "    im = scipy.ndimage.imread(filename)\n",
    "    image_list.append(im)\n",
    "\n",
    "X_train_raw = np.asarray(image_list)\n",
    "y_train_raw = np.concatenate((np.full(3000, 0),np.full(3000, 1),np.full(3000, 2),\\\n",
    "                         np.full(3000, 3),np.full(3000, 4)))\n",
    "print(X_train_raw.shape, y_train_raw.shape)"
   ]
  },
  {
   "cell_type": "code",
   "execution_count": 6,
   "metadata": {},
   "outputs": [
    {
     "name": "stdout",
     "output_type": "stream",
     "text": [
      "Train data shape:  (12000, 128, 128, 3)\n",
      "Train labels shape:  (12000,)\n",
      "Validation data shape:  (3000, 128, 128, 3)\n",
      "Validation labels shape:  (3000,)\n"
     ]
    }
   ],
   "source": [
    "permutation = np.random.permutation(X_train_raw.shape[0])\n",
    "X_train = X_train_raw[permutation]\n",
    "y_train = y_train_raw[permutation]\n",
    "\n",
    "X_train = X_train.reshape(-1,128*128*3)\n",
    "num_train = 12000\n",
    "num_val = 3000\n",
    "\n",
    "permutation = np.random.permutation(X_train_raw.shape[0])\n",
    "X_train = X_train_raw[permutation]\n",
    "y_train = y_train_raw[permutation]\n",
    "\n",
    "X_train = X_train.reshape(-1,128*128*3)\n",
    "\n",
    "X_val = X_train[num_train:]\n",
    "y_val = y_train[num_train:]\n",
    "\n",
    "X_train = X_train[:num_train]\n",
    "y_train = y_train[:num_train]\n",
    "\n",
    "mean_image = np.mean(X_train, axis=0)\n",
    "X_train = X_train.astype(np.float32) - mean_image.astype(np.float32)\n",
    "X_val = X_val.astype(np.float32) - mean_image\n",
    "\n",
    "X_train = X_train.reshape([-1,128,128,3])/255\n",
    "X_val = X_val.reshape([-1,128,128,3])/255\n",
    "\n",
    "print('Train data shape: ', X_train.shape)\n",
    "print('Train labels shape: ', y_train.shape)\n",
    "print('Validation data shape: ', X_val.shape)\n",
    "print('Validation labels shape: ', y_val.shape)"
   ]
  },
  {
   "cell_type": "code",
   "execution_count": 7,
   "metadata": {},
   "outputs": [
    {
     "name": "stdout",
     "output_type": "stream",
     "text": [
      "Building kaggle Net. Parameters: \n",
      "conv_featmap=[6, 16]\n",
      "fc_units=[84]\n",
      "conv_kernel_size=[5, 5]\n",
      "pooling_size=[2, 2]\n",
      "l2_norm=0.01\n",
      "seed=235\n",
      "learning_rate=0.001\n",
      "number of batches for training: 60\n",
      "epoch 1 \n",
      "epoch 2 \n",
      "Best validation accuracy! iteration:100 accuracy: 67.63333333333333%\n",
      "epoch 3 \n",
      "epoch 4 \n",
      "Best validation accuracy! iteration:200 accuracy: 77.86666666666667%\n",
      "epoch 5 \n",
      "Best validation accuracy! iteration:300 accuracy: 75.73333333333333%\n",
      "epoch 6 \n",
      "epoch 7 \n",
      "Best validation accuracy! iteration:400 accuracy: 78.06666666666666%\n",
      "epoch 8 \n",
      "epoch 9 \n",
      "Best validation accuracy! iteration:500 accuracy: 80.6%\n",
      "epoch 10 \n",
      "Best validation accuracy! iteration:600 accuracy: 80.03333333333333%\n",
      "epoch 11 \n",
      "epoch 12 \n",
      "Best validation accuracy! iteration:700 accuracy: 78.43333333333334%\n",
      "epoch 13 \n",
      "epoch 14 \n",
      "Best validation accuracy! iteration:800 accuracy: 80.73333333333333%\n",
      "epoch 15 \n",
      "Best validation accuracy! iteration:900 accuracy: 80.0%\n",
      "epoch 16 \n",
      "epoch 17 \n",
      "Best validation accuracy! iteration:1000 accuracy: 79.53333333333333%\n",
      "epoch 18 \n",
      "epoch 19 \n",
      "Best validation accuracy! iteration:1100 accuracy: 79.03333333333333%\n",
      "epoch 20 \n",
      "Best validation accuracy! iteration:1200 accuracy: 80.63333333333333%\n",
      "Traning ends. The best valid accuracy is 80.73333333333333. Model named KaggleModel.\n"
     ]
    }
   ],
   "source": [
    "from utils.neuralnets.kaggle import kaggle_training\n",
    "tf.reset_default_graph()\n",
    "kaggle_training(X_train, y_train, X_val, y_val, \n",
    "         conv_featmap=[6, 16],\n",
    "         fc_units=[84],\n",
    "         conv_kernel_size=[5, 5],\n",
    "         pooling_size=[2, 2],\n",
    "         l2_norm=0.01,\n",
    "         seed=235,\n",
    "         learning_rate=1e-3,\n",
    "         epoch=20,\n",
    "         batch_size=200,\n",
    "         verbose=False,\n",
    "         pre_trained_model=None)"
   ]
  },
  {
   "cell_type": "markdown",
   "metadata": {},
   "source": [
    "## Save your best model"
   ]
  },
  {
   "cell_type": "code",
   "execution_count": 24,
   "metadata": {},
   "outputs": [
    {
     "name": "stdout",
     "output_type": "stream",
     "text": [
      "INFO:tensorflow:Restoring parameters from model/KaggleModel\n",
      "[0 0 2 ... 3 3 4]\n"
     ]
    }
   ],
   "source": [
    "# YOUR CODE HERE\n",
    "#from utils.neuralnets.kaggle import kaggle_testing\n",
    "warnings.filterwarnings('ignore')\n",
    "image_list = []\n",
    "\n",
    "# for filename in glob.glob('./test_128/*.png'):\n",
    "#     im = scipy.ndimage.imread(filename)\n",
    "#     image_list.append(im)\n",
    "\n",
    "\n",
    "# for filename in glob.glob('./test_128/*.png'):\n",
    "#     im = plt.imread(filename)\n",
    "#     image_list.append(im)\n",
    "\n",
    "\n",
    "extension = '.png'\n",
    "path_to_image_folder = './test_128/'\n",
    "num_test_samples = 3500\n",
    "img_names = [path_to_image_folder+str(idx)+extension for idx in range(num_test_samples)]\n",
    "\n",
    "for filename in img_names:\n",
    "    im = plt.imread(filename)\n",
    "    image_list.append(im)\n",
    "    \n",
    "X_test = np.asarray(image_list)\n",
    "\n",
    "\n",
    "tf.reset_default_graph()\n",
    "with tf.Session() as sess: \n",
    "        saver = tf.train.import_meta_graph('model/KaggleModel.meta')\n",
    "        saver.restore(sess, tf.train.latest_checkpoint('model/'))\n",
    "        graph = tf.get_default_graph()\n",
    "        tf_input = graph.get_operations()[0].name+':0'\n",
    "        x = graph.get_tensor_by_name(tf_input)\n",
    "        tf_output = 'fc_layer_1/Add:0'\n",
    "        y = graph.get_tensor_by_name(tf_output)\n",
    "        y_out = sess.run(y, feed_dict={x: X_test})\n",
    "        y_pred = np.argmax(y_out,axis=1)\n",
    "        print(y_pred)"
   ]
  },
  {
   "cell_type": "markdown",
   "metadata": {},
   "source": [
    "## Generate .csv file for Kaggle"
   ]
  },
  {
   "cell_type": "code",
   "execution_count": 25,
   "metadata": {},
   "outputs": [],
   "source": [
    "# The following code snippet can be used to generate your prediction .csv file.\n",
    "\n",
    "import csv\n",
    "with open('predicted.csv','w') as csvfile:\n",
    "    fieldnames = ['Id','label']\n",
    "    writer = csv.DictWriter(csvfile, fieldnames=fieldnames)\n",
    "    writer.writeheader()    \n",
    "    for index,l in enumerate(y_pred):\n",
    "        filename = str(index)+'.png'\n",
    "        label = str(l)\n",
    "        writer.writerow({'Id': filename, 'label': label})"
   ]
  }
 ],
 "metadata": {
  "kernelspec": {
   "display_name": "Python 3",
   "language": "python",
   "name": "python3"
  },
  "language_info": {
   "codemirror_mode": {
    "name": "ipython",
    "version": 3
   },
   "file_extension": ".py",
   "mimetype": "text/x-python",
   "name": "python",
   "nbconvert_exporter": "python",
   "pygments_lexer": "ipython3",
   "version": "3.7.3"
  }
 },
 "nbformat": 4,
 "nbformat_minor": 2
}
